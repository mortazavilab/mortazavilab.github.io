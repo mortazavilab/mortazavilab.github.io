{
 "cells": [
  {
   "cell_type": "code",
   "execution_count": 1,
   "id": "5ada0f2e-5a46-4f0d-bf86-f958e1a2624d",
   "metadata": {},
   "outputs": [],
   "source": [
    "import numpy as np\n",
    "import pandas as pd\n",
    "\n",
    "bibtex = open(\"ali2024.bib\", \"r\")\n",
    "file = bibtex.read()\n",
    "\n",
    "papers = file.split(\"@\")[1:]\n",
    "title = []\n",
    "author = []\n",
    "journal = []\n",
    "year = []\n",
    "\n",
    "for i in range(len(papers)):\n",
    "    papers[i] = papers[i].replace(\":\", \";\")\n",
    "    tmp = papers[i].split(\"\\n\")\n",
    "    for t in tmp:\n",
    "        if \"title=\" in t and \"booktitle\" not in t:\n",
    "            title.append(t[9:-2])\n",
    "        if \"author=\" in t:\n",
    "            author.append(t[10:-2])\n",
    "        if \"journal=\" in t:\n",
    "            journal.append(t[11:-2])\n",
    "        if \"year=\" in t:\n",
    "            if \",\" in t:\n",
    "                year.append(int(t[8:-2]))\n",
    "            else:\n",
    "                year.append(int(t[8:-1]))\n",
    "\n",
    "    if len(title) != len(author):\n",
    "        author.append(\"\")\n",
    "\n",
    "    if len(title) != len(journal):\n",
    "        journal.append(\"\")\n",
    "\n",
    "    if len(title) != len(year):\n",
    "        year.append(0)\n",
    "\n",
    "data = {'name': title, 'author': author, 'journal': journal, 'year': year}\n",
    "results = pd.DataFrame(data)\n",
    "\n",
    "results = results.sort_values(by=['year'], ascending=False).values\n",
    "\n",
    "res = \"\"\n",
    "\n",
    "for i in range(len(results)):\n",
    "    res = res + \"<li>\\n<h4>\" + results[i, 0]\n",
    "              + \"</h4>\\n<h6>\" + results[i, 1]\n",
    "              + \"</h6>\\n<p class=\\\"text-muted\\\">\" + results[i, 2]\n",
    "              + \", \" + str(results[i, 3])\n",
    "              + \"</p>\\n<br />\\n</li>\"\n",
    "\n",
    "file = open('text', 'w')\n",
    "file.write(res)\n",
    "file.close()\n"
   ]
  }
 ],
 "metadata": {
  "kernelspec": {
   "display_name": "Python 3 (ipykernel)",
   "language": "python",
   "name": "python3"
  },
  "language_info": {
   "codemirror_mode": {
    "name": "ipython",
    "version": 3
   },
   "file_extension": ".py",
   "mimetype": "text/x-python",
   "name": "python",
   "nbconvert_exporter": "python",
   "pygments_lexer": "ipython3",
   "version": "3.12.7"
  }
 },
 "nbformat": 4,
 "nbformat_minor": 5
}
